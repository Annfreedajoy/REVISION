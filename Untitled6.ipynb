{
  "nbformat": 4,
  "nbformat_minor": 0,
  "metadata": {
    "colab": {
      "provenance": []
    },
    "kernelspec": {
      "name": "python3",
      "display_name": "Python 3"
    },
    "language_info": {
      "name": "python"
    }
  },
  "cells": [
    {
      "cell_type": "code",
      "execution_count": 1,
      "metadata": {
        "id": "350mpypvP3yE"
      },
      "outputs": [],
      "source": [
        "def ANTONY():\n",
        "  print(\"India is my Country\")"
      ]
    },
    {
      "cell_type": "code",
      "source": [
        "ANTONY()"
      ],
      "metadata": {
        "colab": {
          "base_uri": "https://localhost:8080/"
        },
        "id": "3Gl3IPY6QFVL",
        "outputId": "ef121ece-16ab-4ffa-ad87-771ea6ec6c99"
      },
      "execution_count": 2,
      "outputs": [
        {
          "output_type": "stream",
          "name": "stdout",
          "text": [
            "India is my Country\n"
          ]
        }
      ]
    },
    {
      "cell_type": "code",
      "source": [
        "def ANTONY():\n",
        "  print(\"Your roll number is\",10)"
      ],
      "metadata": {
        "id": "9TvRojaPQH7S"
      },
      "execution_count": 3,
      "outputs": []
    },
    {
      "cell_type": "code",
      "source": [
        "ANTONY()"
      ],
      "metadata": {
        "colab": {
          "base_uri": "https://localhost:8080/"
        },
        "id": "uAkmU6EbRBv8",
        "outputId": "cbadbdce-efea-4336-d960-e36d45d9df0a"
      },
      "execution_count": 4,
      "outputs": [
        {
          "output_type": "stream",
          "name": "stdout",
          "text": [
            "Your roll number is 10\n"
          ]
        }
      ]
    },
    {
      "cell_type": "code",
      "source": [
        "def ANTONY (x):\n",
        "  print(\"Your roll number is\",x)"
      ],
      "metadata": {
        "id": "8aDeVUhMRFn3"
      },
      "execution_count": 6,
      "outputs": []
    },
    {
      "cell_type": "code",
      "source": [
        "x=int(input(\"Enter your roll no\"))\n",
        "ANTONY(x)\n"
      ],
      "metadata": {
        "colab": {
          "base_uri": "https://localhost:8080/"
        },
        "id": "iLAljDuTSOrC",
        "outputId": "9c407bb6-337d-46a5-ed39-849c73675ed7"
      },
      "execution_count": 7,
      "outputs": [
        {
          "output_type": "stream",
          "name": "stdout",
          "text": [
            "Enter your roll no69\n",
            "Your roll number is 69\n"
          ]
        }
      ]
    },
    {
      "cell_type": "code",
      "source": [
        "def ANTONY (x,y,z):\n",
        "  print(\"Your name is\",x)\n",
        "  print(\"Your roll number is\",y)\n",
        "  print(\"Your place is\",z)"
      ],
      "metadata": {
        "id": "tGkK6JzVTQN1"
      },
      "execution_count": 18,
      "outputs": []
    },
    {
      "cell_type": "code",
      "source": [
        "x=input(\"Enter your name\")\n",
        "y=int(input(\"Enter your roll no.\"))\n",
        "z=input(\"Enter your place\")\n",
        "ANTONY(x,y,z)"
      ],
      "metadata": {
        "colab": {
          "base_uri": "https://localhost:8080/"
        },
        "id": "nzDOaprQVB7m",
        "outputId": "6287bc7e-0567-484a-b6df-6aa1fc20bd51"
      },
      "execution_count": 19,
      "outputs": [
        {
          "output_type": "stream",
          "name": "stdout",
          "text": [
            "Enter your namejoji\n",
            "Enter your roll no.69\n",
            "Enter your placemala\n",
            "Your name is joji\n",
            "Your roll number is 69\n",
            "Your place is mala\n"
          ]
        }
      ]
    },
    {
      "cell_type": "code",
      "source": [
        "x=input(\"Enter your full name\")\n",
        "def firstname(x): \n",
        "  print(x[0:3])\n",
        "def secondname(x):\n",
        "  print(x[4:10])"
      ],
      "metadata": {
        "colab": {
          "base_uri": "https://localhost:8080/"
        },
        "id": "fENmVgDDXYBH",
        "outputId": "71da66ed-45b6-4b32-f3da-2223147391dc"
      },
      "execution_count": 42,
      "outputs": [
        {
          "name": "stdout",
          "output_type": "stream",
          "text": [
            "Enter your full nameann freeda\n"
          ]
        }
      ]
    },
    {
      "cell_type": "code",
      "source": [
        "firstname(x)\n",
        "secondname(x)"
      ],
      "metadata": {
        "colab": {
          "base_uri": "https://localhost:8080/"
        },
        "id": "9-AIOlR7ZALk",
        "outputId": "c91715dd-f98d-4ac5-c779-3a172eb7a39d"
      },
      "execution_count": 43,
      "outputs": [
        {
          "output_type": "stream",
          "name": "stdout",
          "text": [
            "ann\n",
            "freeda\n"
          ]
        }
      ]
    },
    {
      "cell_type": "code",
      "source": [
        "y=input(\"Enter your full name\")\n",
        "x=y.split(\" \")\n",
        "def firstname(x):\n",
        " print(x[0])\n",
        "def secondname(x):\n",
        " print(x[1])"
      ],
      "metadata": {
        "colab": {
          "base_uri": "https://localhost:8080/"
        },
        "id": "BdLEn_9JcRcQ",
        "outputId": "b6b2d0a0-a483-4b66-c13e-d0c5b22de03a"
      },
      "execution_count": 55,
      "outputs": [
        {
          "name": "stdout",
          "output_type": "stream",
          "text": [
            "Enter your full nameann freeda\n"
          ]
        }
      ]
    },
    {
      "cell_type": "code",
      "source": [
        "firstname(x)\n",
        "secondname(x)\n"
      ],
      "metadata": {
        "colab": {
          "base_uri": "https://localhost:8080/"
        },
        "id": "PN8KPQbFf5zv",
        "outputId": "c3a86bf7-4fc4-4244-f5db-2a32a62a4579"
      },
      "execution_count": 56,
      "outputs": [
        {
          "output_type": "stream",
          "name": "stdout",
          "text": [
            "ann\n",
            "freeda\n"
          ]
        }
      ]
    },
    {
      "cell_type": "code",
      "source": [
        "n = int(input(\"Enter a number  \"))\n",
        "z= n//10\n",
        "y = n%10\n",
        "x= (y*10)+z\n",
        "print (x)"
      ],
      "metadata": {
        "colab": {
          "base_uri": "https://localhost:8080/"
        },
        "id": "A8lgt__qc6jW",
        "outputId": "3646d2c4-e9f9-4e4f-97c8-6598ce27e2cc"
      },
      "execution_count": 6,
      "outputs": [
        {
          "output_type": "stream",
          "name": "stdout",
          "text": [
            "Enter a number  56\n",
            "65\n"
          ]
        }
      ]
    }
  ]
}