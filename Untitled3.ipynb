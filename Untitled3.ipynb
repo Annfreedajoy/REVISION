{
  "nbformat": 4,
  "nbformat_minor": 0,
  "metadata": {
    "colab": {
      "provenance": []
    },
    "kernelspec": {
      "name": "python3",
      "display_name": "Python 3"
    },
    "language_info": {
      "name": "python"
    }
  },
  "cells": [
    {
      "cell_type": "code",
      "execution_count": 5,
      "metadata": {
        "colab": {
          "base_uri": "https://localhost:8080/"
        },
        "id": "5U-B90vmhWlY",
        "outputId": "6beae1dd-2452-4425-b27b-c20066ffb444"
      },
      "outputs": [
        {
          "name": "stdout",
          "output_type": "stream",
          "text": [
            "Enter your marks50\n"
          ]
        }
      ],
      "source": [
        "x=int(input(\"Enter your marks\"))"
      ]
    },
    {
      "cell_type": "code",
      "source": [
        "if x>50 :\n",
        "   print (\"You are pass\")\n",
        "if x<50 :\n",
        "   print (\"You are failed\")\n",
        "if x==50 :\n",
        "   print (\"You just passed\")1"
      ],
      "metadata": {
        "colab": {
          "base_uri": "https://localhost:8080/"
        },
        "id": "EmQkE-Dtht9I",
        "outputId": "2f50e545-5c54-467f-ebaf-c51163da56ab"
      },
      "execution_count": 7,
      "outputs": [
        {
          "output_type": "stream",
          "name": "stdout",
          "text": [
            "You just passed\n"
          ]
        }
      ]
    },
    {
      "cell_type": "code",
      "source": [
        "x=int(input(\"Enter your salary\"))"
      ],
      "metadata": {
        "colab": {
          "base_uri": "https://localhost:8080/"
        },
        "id": "jP0owMzwizya",
        "outputId": "cb93201b-2b24-48f0-c343-c0d4dc9dd4bc"
      },
      "execution_count": 8,
      "outputs": [
        {
          "name": "stdout",
          "output_type": "stream",
          "text": [
            "Enter your salary500000\n"
          ]
        }
      ]
    },
    {
      "cell_type": "code",
      "source": [
        "if x>250000 :\n",
        "   print (\"You are taxable\")\n",
        "if x<250000 :\n",
        "   print (\"You are not taxable\")"
      ],
      "metadata": {
        "colab": {
          "base_uri": "https://localhost:8080/"
        },
        "id": "Ud8JgXyCjCYC",
        "outputId": "298af9b5-9fa7-4e7e-8384-7f8ff83935b9"
      },
      "execution_count": 9,
      "outputs": [
        {
          "output_type": "stream",
          "name": "stdout",
          "text": [
            "You are taxable\n"
          ]
        }
      ]
    },
    {
      "cell_type": "code",
      "source": [
        "x=int(input(\"Enter your salary\"))"
      ],
      "metadata": {
        "colab": {
          "base_uri": "https://localhost:8080/"
        },
        "id": "NnWlEqZ6kPMJ",
        "outputId": "184d657b-8b01-4e23-98d8-6b062e47f7fc"
      },
      "execution_count": 10,
      "outputs": [
        {
          "name": "stdout",
          "output_type": "stream",
          "text": [
            "Enter your salary300000\n"
          ]
        }
      ]
    },
    {
      "cell_type": "code",
      "source": [
        "if x>250000 :\n",
        "   print (\"You are taxable\")\n",
        "   print ((x-250000)*10/100)\n",
        "if x<250000 :\n",
        "   print (\"You are not taxable\")"
      ],
      "metadata": {
        "colab": {
          "base_uri": "https://localhost:8080/"
        },
        "id": "KfcI-chfkcWn",
        "outputId": "1eeac6a5-6ba1-4d76-81d3-9d7f3b93ed7d"
      },
      "execution_count": 14,
      "outputs": [
        {
          "output_type": "stream",
          "name": "stdout",
          "text": [
            "You are taxable\n",
            "5000.0\n"
          ]
        }
      ]
    },
    {
      "cell_type": "code",
      "source": [
        "x=int(input(\"Enter your salary\"))\n",
        "if x<=50000 :\n",
        "   print (\"not taxable\")\n",
        "if x<=500000 and x<250000 :\n",
        "   print (\"taxable\")\n",
        "   print(\"tax:\", (x-50000)*10/100+(500000-250000)*10/100)\n",
        "if x<=750000 and x<500000:\n",
        "   print (\"taxable\")\n",
        "   print(\"tax:\", ((x-750000)*15/100)+((500000-250000)*10/100)+((750000-500000)*15/100)) \n",
        "if x<=1000000 and x<500000:\n",
        "   print (\"taxable\")\n",
        "   print(\"tax:\", ((x-1000000)*20/100)+((500000-250000)*10/100)+((750000-500000)*15/100)+((1000000-750000)*20/100))\n",
        "if x<=1500000 and x<1000000:\n",
        "   print (\"taxable\")\n",
        "   print(\"tax:\", ((x-1500000)*25/100)+((500000-250000)*10/100)+((750000-500000)*15/100)+((1000000-750000)*20/100)+((1500000-1000000)*25/100))\n",
        "\n"
      ],
      "metadata": {
        "colab": {
          "base_uri": "https://localhost:8080/"
        },
        "id": "iGM5QGhRmTh-",
        "outputId": "60dd1fe5-760d-4060-a56f-a254d5236b07"
      },
      "execution_count": 36,
      "outputs": [
        {
          "output_type": "stream",
          "name": "stdout",
          "text": [
            "Enter your salary800000\n",
            "taxable\n",
            "tax: 62500.0\n"
          ]
        }
      ]
    },
    {
      "cell_type": "code",
      "source": [],
      "metadata": {
        "id": "PuhXPIgCmXaa"
      },
      "execution_count": null,
      "outputs": []
    },
    {
      "cell_type": "code",
      "source": [],
      "metadata": {
        "id": "tAq19qSWopv3"
      },
      "execution_count": null,
      "outputs": []
    },
    {
      "cell_type": "code",
      "source": [],
      "metadata": {
        "id": "2iU6micUp65i"
      },
      "execution_count": null,
      "outputs": []
    }
  ]
}