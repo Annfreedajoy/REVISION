{
  "nbformat": 4,
  "nbformat_minor": 0,
  "metadata": {
    "colab": {
      "provenance": []
    },
    "kernelspec": {
      "name": "python3",
      "display_name": "Python 3"
    },
    "language_info": {
      "name": "python"
    }
  },
  "cells": [
    {
      "cell_type": "code",
      "execution_count": 6,
      "metadata": {
        "colab": {
          "base_uri": "https://localhost:8080/"
        },
        "id": "btH6myb3vWOu",
        "outputId": "89fe2e7c-429a-4e48-b559-51d27a77fead"
      },
      "outputs": [
        {
          "output_type": "stream",
          "name": "stdout",
          "text": [
            "['John', 'ann', 'freeda', 'adam']\n"
          ]
        },
        {
          "output_type": "execute_result",
          "data": {
            "text/plain": [
              "list"
            ]
          },
          "metadata": {},
          "execution_count": 6
        }
      ],
      "source": [
        "x=[\"John\", \"ann\",\"freeda\",\"adam\"]\n",
        "print(x)\n",
        "type(x)"
      ]
    },
    {
      "cell_type": "code",
      "source": [
        "x=[\"ann freeda\",19,\"mala\",2110009]\n",
        "print(x)\n",
        "type(x)"
      ],
      "metadata": {
        "colab": {
          "base_uri": "https://localhost:8080/"
        },
        "id": "OCGKDZRnv0AL",
        "outputId": "4fa9d34b-d846-4a0c-e911-366c386209f0"
      },
      "execution_count": 12,
      "outputs": [
        {
          "output_type": "stream",
          "name": "stdout",
          "text": [
            "['ann freeda', 19, 'mala', 2110009]\n"
          ]
        },
        {
          "output_type": "execute_result",
          "data": {
            "text/plain": [
              "list"
            ]
          },
          "metadata": {},
          "execution_count": 12
        }
      ]
    },
    {
      "cell_type": "code",
      "source": [
        "x[0]"
      ],
      "metadata": {
        "colab": {
          "base_uri": "https://localhost:8080/",
          "height": 35
        },
        "id": "Ce6PgjzLwjgh",
        "outputId": "0a077f71-5706-441b-9efe-c1cd869fb3a6"
      },
      "execution_count": 14,
      "outputs": [
        {
          "output_type": "execute_result",
          "data": {
            "text/plain": [
              "'ann freeda'"
            ],
            "application/vnd.google.colaboratory.intrinsic+json": {
              "type": "string"
            }
          },
          "metadata": {},
          "execution_count": 14
        }
      ]
    },
    {
      "cell_type": "code",
      "source": [
        "x[-1]"
      ],
      "metadata": {
        "colab": {
          "base_uri": "https://localhost:8080/"
        },
        "id": "FXZSguNIw39y",
        "outputId": "d3971ee1-d022-45af-a1e3-49eb19456120"
      },
      "execution_count": 15,
      "outputs": [
        {
          "output_type": "execute_result",
          "data": {
            "text/plain": [
              "2110009"
            ]
          },
          "metadata": {},
          "execution_count": 15
        }
      ]
    },
    {
      "cell_type": "code",
      "source": [
        "x=[1,102,768,243,456,30,345,678,987,12]\n",
        "x[0:1]"
      ],
      "metadata": {
        "colab": {
          "base_uri": "https://localhost:8080/"
        },
        "id": "xiCZIsmQxd3o",
        "outputId": "a499fa29-13ee-452e-bd03-6cab3cc93f5e"
      },
      "execution_count": 19,
      "outputs": [
        {
          "output_type": "execute_result",
          "data": {
            "text/plain": [
              "[1]"
            ]
          },
          "metadata": {},
          "execution_count": 19
        }
      ]
    },
    {
      "cell_type": "code",
      "source": [
        "x[-3:]"
      ],
      "metadata": {
        "colab": {
          "base_uri": "https://localhost:8080/"
        },
        "id": "ejMuZhBVyZoo",
        "outputId": "6cc875c7-2875-4ed5-a78b-c0d42b720219"
      },
      "execution_count": 20,
      "outputs": [
        {
          "output_type": "execute_result",
          "data": {
            "text/plain": [
              "[678, 987, 12]"
            ]
          },
          "metadata": {},
          "execution_count": 20
        }
      ]
    },
    {
      "cell_type": "code",
      "source": [
        "x[0]=4\n",
        "print(x)"
      ],
      "metadata": {
        "colab": {
          "base_uri": "https://localhost:8080/"
        },
        "id": "xQSMIab50Vwz",
        "outputId": "4dc457f2-ab66-46af-8129-e6ce15216509"
      },
      "execution_count": 24,
      "outputs": [
        {
          "output_type": "stream",
          "name": "stdout",
          "text": [
            "[4, 102, 768, 243, 456, 30, 345, 678, 987, 12]\n"
          ]
        }
      ]
    },
    {
      "cell_type": "code",
      "source": [
        "x=[\"John\", \"ann\",\"freeda\",\"adam\"]\n",
        "x[2]=\"rajagiri\"\n",
        "x"
      ],
      "metadata": {
        "colab": {
          "base_uri": "https://localhost:8080/"
        },
        "id": "TLnXqXkc0lVR",
        "outputId": "e352e7b0-6af9-4c6e-ff80-69addb31f62d"
      },
      "execution_count": 27,
      "outputs": [
        {
          "output_type": "execute_result",
          "data": {
            "text/plain": [
              "['John', 'ann', 'rajagiri', 'adam']"
            ]
          },
          "metadata": {},
          "execution_count": 27
        }
      ]
    },
    {
      "cell_type": "code",
      "source": [
        "x=[3,6,9,12]\n",
        "x.append (69)"
      ],
      "metadata": {
        "id": "LkzMOCO52JvF"
      },
      "execution_count": 28,
      "outputs": []
    },
    {
      "cell_type": "code",
      "source": [
        "x"
      ],
      "metadata": {
        "colab": {
          "base_uri": "https://localhost:8080/"
        },
        "id": "gMf1cf813iO_",
        "outputId": "f20ace9a-74df-4c3a-f4b2-fefd4a6f56f7"
      },
      "execution_count": 29,
      "outputs": [
        {
          "output_type": "execute_result",
          "data": {
            "text/plain": [
              "[3, 6, 9, 12, 69]"
            ]
          },
          "metadata": {},
          "execution_count": 29
        }
      ]
    },
    {
      "cell_type": "code",
      "source": [
        "y=1\n",
        "lst=[]\n",
        "while (y<=4):\n",
        "  x=input(\"enter your name \")\n",
        "  lst.append(x)\n",
        "  y+=1\n",
        "  print(lst)"
      ],
      "metadata": {
        "colab": {
          "base_uri": "https://localhost:8080/"
        },
        "id": "RIkrD0fe3la9",
        "outputId": "f76ec1f0-9b5e-46f7-90b8-71e312eb8f5a"
      },
      "execution_count": 37,
      "outputs": [
        {
          "output_type": "stream",
          "name": "stdout",
          "text": [
            "enter your name ann\n",
            "['ann']\n",
            "enter your name ann\n",
            "['ann', 'ann']\n",
            "enter your name jofn\n",
            "['ann', 'ann', 'jofn']\n",
            "enter your name joy\n",
            "['ann', 'ann', 'jofn', 'joy']\n"
          ]
        }
      ]
    },
    {
      "cell_type": "code",
      "source": [
        "x=[987,23456,876543,2345,9876543,34567,987654,2345,98765,234,98765435]\n",
        "u=x.copy()\n",
        "u"
      ],
      "metadata": {
        "colab": {
          "base_uri": "https://localhost:8080/"
        },
        "id": "N4cKOUlp4bjG",
        "outputId": "28c9af52-4be5-4240-b697-dc98a1ece0f6"
      },
      "execution_count": 41,
      "outputs": [
        {
          "output_type": "execute_result",
          "data": {
            "text/plain": [
              "[987, 23456, 876543, 2345, 9876543, 34567, 987654, 2345, 98765, 234, 98765435]"
            ]
          },
          "metadata": {},
          "execution_count": 41
        }
      ]
    },
    {
      "cell_type": "code",
      "source": [
        "x=[\"ann\",\"marty\",\"dev\",\"aysha\"]\n",
        "y=['a','b','c']\n",
        "x.extend(y)\n",
        "x"
      ],
      "metadata": {
        "colab": {
          "base_uri": "https://localhost:8080/"
        },
        "id": "lSEsZ2sJ9pAs",
        "outputId": "8a321a54-186a-4722-d252-f329e35db2da"
      },
      "execution_count": 42,
      "outputs": [
        {
          "output_type": "execute_result",
          "data": {
            "text/plain": [
              "['ann', 'marty', 'dev', 'aysha', 'a', 'b', 'c']"
            ]
          },
          "metadata": {},
          "execution_count": 42
        }
      ]
    },
    {
      "cell_type": "code",
      "source": [
        "x=[987,23456,8,876,8,543,2345,9876543,8]\n",
        "x.count(8)"
      ],
      "metadata": {
        "colab": {
          "base_uri": "https://localhost:8080/"
        },
        "id": "f2P6nPT4-mGl",
        "outputId": "d5774077-c33e-41db-b658-28abe1321274"
      },
      "execution_count": 44,
      "outputs": [
        {
          "output_type": "execute_result",
          "data": {
            "text/plain": [
              "3"
            ]
          },
          "metadata": {},
          "execution_count": 44
        }
      ]
    },
    {
      "cell_type": "code",
      "source": [
        "x=[\"ann\",\"marty\",\"dev\",\"aysha\"]\n",
        "x[1:3]=[\"jovin\",\"romi\"]\n",
        "print(x)"
      ],
      "metadata": {
        "colab": {
          "base_uri": "https://localhost:8080/"
        },
        "id": "17lWOCG4_W5q",
        "outputId": "7ccd1953-a966-4064-9602-6ef4d365f54b"
      },
      "execution_count": 45,
      "outputs": [
        {
          "output_type": "stream",
          "name": "stdout",
          "text": [
            "['ann', 'jovin', 'romi', 'aysha']\n"
          ]
        }
      ]
    },
    {
      "cell_type": "code",
      "source": [
        "x=[\"ann\",\"marty\",\"dev\",\"aysha\"]\n",
        "x.insert(2,\"joji\")\n",
        "x"
      ],
      "metadata": {
        "colab": {
          "base_uri": "https://localhost:8080/"
        },
        "id": "ZKof5lI0AhGg",
        "outputId": "84a8c525-8f34-4d4d-a1b2-8004cfdf95e5"
      },
      "execution_count": 46,
      "outputs": [
        {
          "output_type": "execute_result",
          "data": {
            "text/plain": [
              "['ann', 'marty', 'joji', 'dev', 'aysha']"
            ]
          },
          "metadata": {},
          "execution_count": 46
        }
      ]
    },
    {
      "cell_type": "code",
      "source": [
        "x=[\"ann\",\"marty\",\"dev\",\"aysha\"]\n",
        "x.remove(\"marty\")\n",
        "x"
      ],
      "metadata": {
        "colab": {
          "base_uri": "https://localhost:8080/"
        },
        "id": "cPWiuDcsBZZ7",
        "outputId": "794ca7f6-717d-4458-810b-6799f0e20635"
      },
      "execution_count": 49,
      "outputs": [
        {
          "output_type": "execute_result",
          "data": {
            "text/plain": [
              "['ann', 'dev', 'aysha']"
            ]
          },
          "metadata": {},
          "execution_count": 49
        }
      ]
    },
    {
      "cell_type": "code",
      "source": [
        "x=[\"ann\",\"marty\",\"dev\",\"aysha\"]\n",
        "del x[0]\n",
        "x"
      ],
      "metadata": {
        "colab": {
          "base_uri": "https://localhost:8080/"
        },
        "id": "rbG-icX1CS8j",
        "outputId": "0b1d9ea6-43c3-4977-d554-7e842d9c8a0e"
      },
      "execution_count": 55,
      "outputs": [
        {
          "output_type": "execute_result",
          "data": {
            "text/plain": [
              "['marty', 'dev', 'aysha']"
            ]
          },
          "metadata": {},
          "execution_count": 55
        }
      ]
    },
    {
      "cell_type": "code",
      "source": [
        "x=[\"ann\",\"marty\",\"dev\",\"aysha\"]\n",
        "del x[0:2]\n",
        "x"
      ],
      "metadata": {
        "colab": {
          "base_uri": "https://localhost:8080/"
        },
        "id": "jYeAK2UbDHtG",
        "outputId": "efdc5917-cb22-4bcf-eee8-c938e81bee85"
      },
      "execution_count": 57,
      "outputs": [
        {
          "output_type": "execute_result",
          "data": {
            "text/plain": [
              "['dev', 'aysha']"
            ]
          },
          "metadata": {},
          "execution_count": 57
        }
      ]
    },
    {
      "cell_type": "code",
      "source": [],
      "metadata": {
        "id": "kKcTjHBhDpjg"
      },
      "execution_count": 57,
      "outputs": []
    }
  ]
}